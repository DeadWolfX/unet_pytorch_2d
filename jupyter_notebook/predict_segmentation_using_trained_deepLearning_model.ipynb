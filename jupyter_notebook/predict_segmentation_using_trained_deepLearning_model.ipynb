{
 "cells": [
  {
   "cell_type": "markdown",
   "id": "0c814820",
   "metadata": {},
   "source": [
    "# About the notebook\n",
    "The purpose of this Jupyter Notebook is to use a pre-trained deep learning model to generate segmentation predictions for a given input image.  \n"
   ]
  },
  {
   "cell_type": "markdown",
   "id": "2d9fa4ea",
   "metadata": {},
   "source": [
    "# 01 - Loading dependencies\n",
    "In this notebook, before running any code, there are several libraries and modules that need to be imported to ensure that the notebook runs smoothly. These libraries and modules contain pre-written code that performs specific tasks, such as reading and processing images, defining the UNET model, and training the model."
   ]
  },
  {
   "cell_type": "code",
   "execution_count": 3,
   "id": "d18617ce",
   "metadata": {},
   "outputs": [
    {
     "name": "stdout",
     "output_type": "stream",
     "text": [
      "C:\\Users\\jalip\\Documentos\\github\\unet_pytorch_2d\n",
      "The autoreload extension is already loaded. To reload it, use:\n",
      "  %reload_ext autoreload\n"
     ]
    }
   ],
   "source": [
    "import os\n",
    "if 'workbookDir' not in globals():\n",
    "    print('Updating working directory')\n",
    "    workbookDir = os.path.dirname(os.getcwd())\n",
    "    os.chdir(workbookDir)\n",
    "print(os.getcwd())\n",
    "import torch\n",
    "\n",
    "from core_code.predict import PredictSegmentationInteractive\n",
    "from core_code.util.show_image import show_images_side_by_side_interactive\n",
    "\n",
    "#allow reloading the functions updates\n",
    "%load_ext autoreload\n",
    "%autoreload 2"
   ]
  },
  {
   "cell_type": "markdown",
   "id": "91655c7c",
   "metadata": {},
   "source": [
    "# 02 - Setting required parameters\n",
    "In this section, users can specify the necessary parameters to predict the segmentation mask for a given input image. The following parameters are required:\n",
    "\n",
    "**Model path**: The path to the trained model that will be used for segmentation prediction.\n",
    "\n",
    "**Input path**: The path to the folder containing the input images, or the path to a single 'tif' image.\n",
    "\n",
    "**Output path (Optional)**: The path where the output of the network will be saved. If you do not provide an output path, the algorithm will automatically create a folder named 'output' in the same folder as the input images, and save the predictions there.\n",
    "\n",
    "**Device**: The device that will be used to perform the operations."
   ]
  },
  {
   "cell_type": "code",
   "execution_count": 10,
   "id": "0d63c199",
   "metadata": {},
   "outputs": [
    {
     "data": {
      "application/vnd.jupyter.widget-view+json": {
       "model_id": "e4501879dda645a49175d71a58e31ec2",
       "version_major": 2,
       "version_minor": 0
      },
      "text/plain": [
       "Text(value='', description='Model path:', layout=Layout(flex='1 1 auto', width='auto'), placeholder='Insert pa…"
      ]
     },
     "metadata": {},
     "output_type": "display_data"
    },
    {
     "data": {
      "application/vnd.jupyter.widget-view+json": {
       "model_id": "b108f79972124c14ba0a3f33a0489e36",
       "version_major": 2,
       "version_minor": 0
      },
      "text/plain": [
       "Text(value='', description='Input path:', layout=Layout(flex='1 1 auto', width='auto'), placeholder='Insert pa…"
      ]
     },
     "metadata": {},
     "output_type": "display_data"
    },
    {
     "data": {
      "application/vnd.jupyter.widget-view+json": {
       "model_id": "afc74c4a23604b729b4e676e21f7add8",
       "version_major": 2,
       "version_minor": 0
      },
      "text/plain": [
       "Text(value='', description='Output path:', layout=Layout(flex='1 1 auto', width='auto'), placeholder='Insert p…"
      ]
     },
     "metadata": {},
     "output_type": "display_data"
    },
    {
     "data": {
      "application/vnd.jupyter.widget-view+json": {
       "model_id": "d0d8c12a56964399befad4f965e436ae",
       "version_major": 2,
       "version_minor": 0
      },
      "text/plain": [
       "Dropdown(description='Device: ', options=(('NVIDIA GeForce GTX 1650', 'cuda:0'), ('CPU', 'cpu')), style=Descri…"
      ]
     },
     "metadata": {},
     "output_type": "display_data"
    }
   ],
   "source": [
    "predict_interactive = PredictSegmentationInteractive()\n"
   ]
  },
  {
   "cell_type": "markdown",
   "id": "c1bf4f4d",
   "metadata": {},
   "source": [
    "# 03 - Do the prediction\n",
    "This line of code allows you to predict the images using the trained deep learning model."
   ]
  },
  {
   "cell_type": "code",
   "execution_count": null,
   "id": "316bbf4d",
   "metadata": {},
   "outputs": [],
   "source": [
    "predict_interactive.run();"
   ]
  },
  {
   "cell_type": "markdown",
   "id": "a65367e7",
   "metadata": {},
   "source": [
    "# 04 - Visualization\n",
    "This sections provides an opportunity for the user to inspect and visually analyze the results of the segmentation prediction. This step is important to ensure that the predicted segmentations are appropriate and accurate."
   ]
  },
  {
   "cell_type": "code",
   "execution_count": null,
   "id": "aa66d979",
   "metadata": {},
   "outputs": [],
   "source": []
  }
 ],
 "metadata": {
  "kernelspec": {
   "display_name": "Python 3 (ipykernel)",
   "language": "python",
   "name": "python3"
  },
  "language_info": {
   "codemirror_mode": {
    "name": "ipython",
    "version": 3
   },
   "file_extension": ".py",
   "mimetype": "text/x-python",
   "name": "python",
   "nbconvert_exporter": "python",
   "pygments_lexer": "ipython3",
   "version": "3.9.13"
  }
 },
 "nbformat": 4,
 "nbformat_minor": 5
}
