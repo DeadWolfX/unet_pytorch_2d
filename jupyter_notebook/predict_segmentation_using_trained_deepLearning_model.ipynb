{
 "cells": [
  {
   "cell_type": "markdown",
   "id": "0c814820",
   "metadata": {},
   "source": [
    "# About the notebook\n",
    "The purpose of this Jupyter Notebook is to use a pre-trained deep learning model to generate segmentation predictions for a given input image.  \n"
   ]
  },
  {
   "cell_type": "markdown",
   "id": "2d9fa4ea",
   "metadata": {},
   "source": [
    "# 01 - Loading dependencies\n",
    "In this notebook, before running any code, there are several libraries and modules that need to be imported to ensure that the notebook runs smoothly. These libraries and modules contain pre-written code that performs specific tasks, such as reading and processing images, defining the UNET model, and training the model."
   ]
  },
  {
   "cell_type": "code",
   "execution_count": null,
   "id": "d18617ce",
   "metadata": {},
   "outputs": [],
   "source": [
    "import os\n",
    "if 'workbookDir' not in globals():\n",
    "    print('Updating working directory')\n",
    "    workbookDir = os.path.dirname(os.getcwd())\n",
    "    os.chdir(workbookDir)\n",
    "print(os.getcwd())\n",
    "import torch\n",
    "\n",
    "from core_code.deeplearning_util import PredictSegmentationInteractive\n",
    "\n",
    "#allow reloading the functions updates\n",
    "%load_ext autoreload\n",
    "%autoreload 2"
   ]
  },
  {
   "cell_type": "code",
   "execution_count": null,
   "id": "0d63c199",
   "metadata": {},
   "outputs": [],
   "source": [
    "predict_interactive = PredictSegmentationInteractive()\n"
   ]
  },
  {
   "cell_type": "code",
   "execution_count": null,
   "id": "316bbf4d",
   "metadata": {},
   "outputs": [],
   "source": [
    "predict_interactive.run();"
   ]
  },
  {
   "cell_type": "code",
   "execution_count": null,
   "id": "f5e2a4cf",
   "metadata": {},
   "outputs": [],
   "source": []
  }
 ],
 "metadata": {
  "kernelspec": {
   "display_name": "Python 3 (ipykernel)",
   "language": "python",
   "name": "python3"
  },
  "language_info": {
   "codemirror_mode": {
    "name": "ipython",
    "version": 3
   },
   "file_extension": ".py",
   "mimetype": "text/x-python",
   "name": "python",
   "nbconvert_exporter": "python",
   "pygments_lexer": "ipython3",
   "version": "3.9.13"
  }
 },
 "nbformat": 4,
 "nbformat_minor": 5
}
